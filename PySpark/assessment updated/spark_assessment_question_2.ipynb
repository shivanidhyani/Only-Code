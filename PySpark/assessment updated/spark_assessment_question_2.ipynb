{
 "cells": [
  {
   "cell_type": "code",
   "execution_count": null,
   "id": "7bcbf3a0-be8f-4e52-8111-fa669a53a853",
   "metadata": {},
   "outputs": [],
   "source": [
    "#Question 2. \n",
    "''' Consider two dataset “Company.txt” and “College.txt”\n",
    "    a. Create two table structure as follows by using case class:\n",
    "        i. College table:\n",
    "            dates:String,\n",
    "            college:String,\n",
    "            location:String,\n",
    "            number_of_indian_students:String,\n",
    "            number_of_foreign_students:String,\n",
    "            fees:String , \n",
    "            survey_name:String, \n",
    "            rank:Int\n",
    "        ii. Company table:\n",
    "            dates:String,\n",
    "            college:String,\n",
    "            company:String,\n",
    "            location:String,\n",
    "            country:String,\n",
    "            package:Double ,\n",
    "            selected:Int, \n",
    "            participated:Int, \n",
    "            criteria:Int\n",
    "            \n",
    "    b. Read these two txt files into RDD and map the RDD with these table structure.\n",
    "    c. Get the result year wise college ranking\n",
    "    d. List down the College name and Total Numbers of Students including Indian & Foreigner who\n",
    "    conducted the campus drive in “TCS” and “Capgemini”.\n",
    "    e. List down the College name and ranking whose student have got opportunities in “Google” and\n",
    "    “Facebook”\n",
    "    f. List down the Company names with number of campus drives.\n",
    "    g. List down the colleges state wise with total no. of Student Selection.\n",
    "    h. List down the full details of College with Campus drive details who have highest number of Foreign\n",
    "    Students.\n",
    "    i. List down top 5 college name with their number of Selected Students\n",
    "    j. List down the College Name with Fees whose student are getting package above of 10 LPA package\n",
    "    k. List down the College Name with the Rank who have the highest criteria to get a job\n",
    "'''"
   ]
  },
  {
   "cell_type": "code",
   "execution_count": null,
   "id": "e5e4a0ce-505a-48af-9cf3-23ce33a2d497",
   "metadata": {},
   "outputs": [],
   "source": [
    "from pyspark.sql import SparkSession, DataFrame\n",
    "from pyspark.sql.types import StructType, StructField, StringType, IntegerType, FloatType\n",
    "from pyspark.sql.functions import col, year, to_date, split"
   ]
  },
  {
   "cell_type": "code",
   "execution_count": null,
   "id": "5a6b705a-876a-431f-8ea3-936a3b12cb68",
   "metadata": {},
   "outputs": [],
   "source": [
    "spark = SparkSession.builder.appName(\"Spark Assessment2\").getOrCreate()"
   ]
  },
  {
   "cell_type": "code",
   "execution_count": null,
   "id": "b37f0b1d-65d3-4013-a4ed-f30215b72549",
   "metadata": {},
   "outputs": [],
   "source": [
    "College = StructType([\n",
    "    StructField(\"dates\", StringType(), True),\n",
    "    StructField(\"college\", StringType(), True),\n",
    "    StructField(\"location\", StringType(), True),\n",
    "    StructField(\"number_of_indian_students\", StringType(), True),\n",
    "    StructField(\"number_of_foreign_students\", StringType(), True),\n",
    "    StructField(\"fees\", StringType(), True),\n",
    "    StructField(\"survey_name\", StringType(), True),\n",
    "    StructField(\"rank\", IntegerType(), True)\n",
    "])\n",
    "\n",
    "Company = StructType([\n",
    "    StructField(\"dates\", StringType(), True),\n",
    "    StructField(\"college\", StringType(), True),\n",
    "    StructField(\"company\", StringType(), True),\n",
    "    StructField(\"location\", StringType(), True),\n",
    "    StructField(\"country\", StringType(), True),\n",
    "    StructField(\"package\", FloatType(), True),\n",
    "    StructField(\"selected\", IntegerType(), True),\n",
    "    StructField(\"participated\", IntegerType(), True),\n",
    "    StructField(\"criteria\", IntegerType(), True)\n",
    "])"
   ]
  },
  {
   "cell_type": "code",
   "execution_count": null,
   "id": "4a0f1b41-1875-4f2f-997b-b61627cbfe2d",
   "metadata": {},
   "outputs": [],
   "source": [
    "collegeRDD = spark.sparkContext.textFile(\"College.txt\")\n",
    "companyRDD = spark.sparkContext.textFile(\"Company.txt\")\n",
    "\n",
    "collegeRDD.collect()\n",
    "\n",
    "collegeDF = spark.createDataFrame(collegeRDD.map(lambda x: x.split(\"|\")), schema=College)\n",
    "# collegeDF = collegeRDD.toDF()\n",
    "\n",
    "# collegeDF = spark.createDataFrame(collegeRDD.map(lambda x: x.split(\"\\t\")), schema=College)\n",
    "# companyDF = spark.createDataFrame(companyRDD.map(lambda x: x.split(\"\\t\")), schema=Company)"
   ]
  },
  {
   "cell_type": "code",
   "execution_count": null,
   "id": "723c6839",
   "metadata": {},
   "outputs": [],
   "source": [
    "collegeDF.show()"
   ]
  },
  {
   "cell_type": "code",
   "execution_count": null,
   "id": "8a9c3f81",
   "metadata": {},
   "outputs": [],
   "source": [
    "collegeDF = collegeDF.withColumn(\"year\", year(to_date(col(\"dates\"), \"yyyy-MM-dd\")))\n",
    "collegeRankingDF = collegeDF.groupBy(\"year\", \"college\") \\\n",
    "    .agg({\"rank\": \"avg\"}) \\\n",
    "    .orderBy(\"year\", \"avg(rank)\")"
   ]
  },
  {
   "cell_type": "code",
   "execution_count": null,
   "id": "0acad8f6",
   "metadata": {},
   "outputs": [],
   "source": [
    "from pyspark.sql import functions as F\n",
    "\n",
    "companyDF = companyDF.filter(col(\"company\").isin([\"TCS\", \"Capgemini\"]))\n",
    "collegeStudentCountDF = companyDF.join(collegeDF, on=\"college\", how=\"inner\") \\\n",
    "    .groupBy(\"college\") \\\n",
    "    .agg((F.col(\"number_of_indian_students\").cast(\"int\") + F.col(\"number_of_foreign_students\").cast(\"int\")).alias(\"total_students\")) \\\n",
    "    .select(\"college\", \"total_students\")"
   ]
  },
  {
   "cell_type": "code",
   "execution_count": null,
   "id": "1d1c37f8",
   "metadata": {},
   "outputs": [],
   "source": [
    "companyDriveCountDF = companyDF.groupBy(\"company\").count() \\\n",
    "    .select(\"company\", \"count\") \\\n",
    "    .orderBy(\"count\", ascending=False)"
   ]
  },
  {
   "cell_type": "code",
   "execution_count": null,
   "id": "1174d99e",
   "metadata": {},
   "outputs": [],
   "source": [
    "collegeDF = collegeDF.withColumn(\"state\", split(col(\"location\"), \",\")[1])  # Assuming comma-separated location format\n",
    "selectedStudentsDF = companyDF.join(collegeDF, on=\"college\", how=\"inner\") \\\n",
    "    .filter(col(\"selected\") > 0)\n",
    "stateStudentCountDF = selectedStudentsDF.groupBy(\"state\") \\\n",
    "    .agg(col(\"selected\").sum().alias(\"total_selections\")) \\\n",
    "    .orderBy(\"total_selections\", ascending=False)"
   ]
  },
  {
   "cell_type": "code",
   "execution_count": null,
   "id": "966363d9",
   "metadata": {},
   "outputs": [],
   "source": [
    "maxForeignStudents = collegeDF.select(col(\"number_of_foreign_students\").cast(\"int\")).rdd.max()[0]\n",
    "collegeWithMaxForeignStudentsDF = collegeDF.filter(col(\"number_of_foreign_students\").cast(\"int\") == maxForeignStudents)\n",
    "joinedDetailsDF = collegeWithMaxForeignStudentsDF.join(companyDF, on=\"college\", how=\"full\")  # Full join to include colleges without drives"
   ]
  },
  {
   "cell_type": "code",
   "execution_count": null,
   "id": "6f9c630a",
   "metadata": {},
   "outputs": [],
   "source": [
    "topSelectedStudentsDF = companyDF.join(collegeDF, on=\"college\", how=\"inner\") \\\n",
    "    .groupBy(\"college\") \\\n",
    "    .agg(col(\"selected\").sum().alias(\"total_selected\")) \\\n",
    "    .orderBy(\"total_selected\", ascending=False) \\\n",
    "    .limit(5)"
   ]
  },
  {
   "cell_type": "code",
   "execution_count": null,
   "id": "3aae4ce7",
   "metadata": {},
   "outputs": [],
   "source": [
    "packageAbove10DF = companyDF.join(collegeDF, on=\"college\", how=\"inner\") \\\n",
    "    .filter(col(\"package\") > 10) \\\n",
    "    .select(\"college\", \"fees\")"
   ]
  },
  {
   "cell_type": "code",
   "execution_count": null,
   "id": "f1ee6d68",
   "metadata": {},
   "outputs": [],
   "source": [
    "maxCriteria = companyDF.select(col(\"criteria\").cast(\"int\")).rdd.max()[0]\n",
    "collegeWithMaxCriteriaDF = collegeDF.filter(col(\"criteria\") == maxCriteria)"
   ]
  },
  {
   "cell_type": "code",
   "execution_count": null,
   "id": "dd3d7b84",
   "metadata": {},
   "outputs": [],
   "source": [
    "collegeDF.printSchema()\n",
    "companyDF.printSchema()"
   ]
  }
 ],
 "metadata": {
  "kernelspec": {
   "display_name": "Python 3 (ipykernel)",
   "language": "python",
   "name": "python3"
  },
  "language_info": {
   "codemirror_mode": {
    "name": "ipython",
    "version": 3
   },
   "file_extension": ".py",
   "mimetype": "text/x-python",
   "name": "python",
   "nbconvert_exporter": "python",
   "pygments_lexer": "ipython3",
   "version": "3.12.3"
  }
 },
 "nbformat": 4,
 "nbformat_minor": 5
}
