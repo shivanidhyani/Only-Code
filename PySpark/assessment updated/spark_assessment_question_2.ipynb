{
 "cells": [
  {
   "cell_type": "code",
   "execution_count": null,
   "id": "7bcbf3a0-be8f-4e52-8111-fa669a53a853",
   "metadata": {},
   "outputs": [],
   "source": [
    "#Question 2. \n",
    "''' Consider two dataset “Company.txt” and “College.txt”\n",
    "    a. Create two table structure as follows by using case class:\n",
    "        i. College table:\n",
    "            dates:String,\n",
    "            college:String,\n",
    "            location:String,\n",
    "            number_of_indian_students:String,\n",
    "            number_of_foreign_students:String,\n",
    "            fees:String , \n",
    "            survey_name:String, \n",
    "            rank:Int\n",
    "        ii. Company table:\n",
    "            dates:String,\n",
    "            college:String,\n",
    "            company:String,\n",
    "            location:String,\n",
    "            country:String,\n",
    "            package:Double ,\n",
    "            selected:Int, \n",
    "            participated:Int, \n",
    "            criteria:Int\n",
    "            \n",
    "    b. Read these two txt files into RDD and map the RDD with these table structure.\n",
    "    c. Get the result year wise college ranking\n",
    "    d. List down the College name and Total Numbers of Students including Indian & Foreigner who\n",
    "    conducted the campus drive in “TCS” and “Capgemini”.\n",
    "    e. List down the College name and ranking whose student have got opportunities in “Google” and\n",
    "    “Facebook”\n",
    "    f. List down the Company names with number of campus drives.\n",
    "    g. List down the colleges state wise with total no. of Student Selection.\n",
    "    h. List down the full details of College with Campus drive details who have highest number of Foreign\n",
    "    Students.\n",
    "    i. List down top 5 college name with their number of Selected Students\n",
    "    j. List down the College Name with Fees whose student are getting package above of 10 LPA package\n",
    "    k. List down the College Name with the Rank who have the highest criteria to get a job\n",
    "'''"
   ]
  },
  {
   "cell_type": "code",
   "execution_count": 39,
   "id": "e5e4a0ce-505a-48af-9cf3-23ce33a2d497",
   "metadata": {},
   "outputs": [],
   "source": [
    "from pyspark.sql import SparkSession, DataFrame\n",
    "from pyspark.sql.types import StructType, StructField, StringType, IntegerType, FloatType\n",
    "from pyspark.sql.functions import col, year, to_date, split"
   ]
  },
  {
   "cell_type": "code",
   "execution_count": 40,
   "id": "5a6b705a-876a-431f-8ea3-936a3b12cb68",
   "metadata": {},
   "outputs": [],
   "source": [
    "spark = SparkSession.builder.appName(\"Spark Assessment2\").getOrCreate()"
   ]
  },
  {
   "cell_type": "code",
   "execution_count": 42,
   "id": "b37f0b1d-65d3-4013-a4ed-f30215b72549",
   "metadata": {},
   "outputs": [],
   "source": [
    "College = StructType([\n",
    "    StructField(\"dates\", StringType(), True),\n",
    "    StructField(\"college\", StringType(), True),\n",
    "    StructField(\"location\", StringType(), True),\n",
    "    StructField(\"number_of_indian_students\", StringType(), True),\n",
    "    StructField(\"number_of_foreign_students\", StringType(), True),\n",
    "    StructField(\"fees\", StringType(), True),\n",
    "    StructField(\"survey_name\", StringType(), True),\n",
    "    StructField(\"rank\", IntegerType(), True)\n",
    "])\n",
    "\n",
    "Company = StructType([\n",
    "    StructField(\"dates\", StringType(), True),\n",
    "    StructField(\"college\", StringType(), True),\n",
    "    StructField(\"company\", StringType(), True),\n",
    "    StructField(\"location\", StringType(), True),\n",
    "    StructField(\"country\", StringType(), True),\n",
    "    StructField(\"package\", FloatType(), True),\n",
    "    StructField(\"selected\", IntegerType(), True),\n",
    "    StructField(\"participated\", IntegerType(), True),\n",
    "    StructField(\"criteria\", IntegerType(), True)\n",
    "])"
   ]
  },
  {
   "cell_type": "code",
   "execution_count": 43,
   "id": "4a0f1b41-1875-4f2f-997b-b61627cbfe2d",
   "metadata": {},
   "outputs": [],
   "source": [
    "collegeRDD = spark.sparkContext.textFile(\"College.txt\")\n",
    "companyRDD = spark.sparkContext.textFile(\"Company.txt\")\n",
    "\n",
    "collegeDF = spark.createDataFrame(collegeRDD.map(lambda x: x.split(\"\\t\")), schema=College)\n",
    "companyDF = spark.createDataFrame(companyRDD.map(lambda x: x.split(\"\\t\")), schema=Company)\n"
   ]
  },
  {
   "cell_type": "code",
   "execution_count": 45,
   "id": "8a9c3f81",
   "metadata": {},
   "outputs": [],
   "source": [
    "collegeDF = collegeDF.withColumn(\"year\", year(to_date(col(\"dates\"), \"yyyy-MM-dd\")))\n",
    "collegeRankingDF = collegeDF.groupBy(\"year\", \"college\") \\\n",
    "    .agg({\"rank\": \"avg\"}) \\\n",
    "    .orderBy(\"year\", \"avg(rank)\")"
   ]
  },
  {
   "cell_type": "code",
   "execution_count": 48,
   "id": "0acad8f6",
   "metadata": {},
   "outputs": [
    {
     "ename": "AnalysisException",
     "evalue": "[MISSING_AGGREGATION] The non-aggregating expression \"number_of_indian_students\" is based on columns which are not participating in the GROUP BY clause.\nAdd the columns or the expression to the GROUP BY, aggregate the expression, or use \"any_value(number_of_indian_students)\" if you do not care which of the values within a group is returned.;\nAggregate [college#104], [college#104, (cast(number_of_indian_students#90 as int) + cast(number_of_foreign_students#91 as int)) AS total_students#269]\n+- Project [college#104, dates#103, company#105, location#106, country#107, package#108, selected#109, participated#110, criteria#111, dates#87, location#89, number_of_indian_students#90, number_of_foreign_students#91, fees#92, survey_name#93, rank#94, year#141]\n   +- Join Inner, (college#104 = college#88)\n      :- Filter company#105 IN (TCS,Capgemini)\n      :  +- Filter company#105 IN (TCS,Capgemini)\n      :     +- Filter company#105 IN (TCS,Capgemini)\n      :        +- LogicalRDD [dates#103, college#104, company#105, location#106, country#107, package#108, selected#109, participated#110, criteria#111], false\n      +- Project [dates#87, college#88, location#89, number_of_indian_students#90, number_of_foreign_students#91, fees#92, survey_name#93, rank#94, year(to_date(dates#87, Some(yyyy-MM-dd), Some(Asia/Calcutta), false)) AS year#141]\n         +- Project [dates#87, college#88, location#89, number_of_indian_students#90, number_of_foreign_students#91, fees#92, survey_name#93, rank#94, year(to_date(dates#87, Some(yyyy-MM-dd), Some(Asia/Calcutta), false)) AS year#121]\n            +- LogicalRDD [dates#87, college#88, location#89, number_of_indian_students#90, number_of_foreign_students#91, fees#92, survey_name#93, rank#94], false\n",
     "output_type": "error",
     "traceback": [
      "\u001b[1;31m---------------------------------------------------------------------------\u001b[0m",
      "\u001b[1;31mAnalysisException\u001b[0m                         Traceback (most recent call last)",
      "Cell \u001b[1;32mIn[48], line 6\u001b[0m\n\u001b[0;32m      1\u001b[0m \u001b[39mfrom\u001b[39;00m \u001b[39mpyspark\u001b[39;00m\u001b[39m.\u001b[39;00m\u001b[39msql\u001b[39;00m \u001b[39mimport\u001b[39;00m functions \u001b[39mas\u001b[39;00m F\n\u001b[0;32m      3\u001b[0m companyDF \u001b[39m=\u001b[39m companyDF\u001b[39m.\u001b[39mfilter(col(\u001b[39m\"\u001b[39m\u001b[39mcompany\u001b[39m\u001b[39m\"\u001b[39m)\u001b[39m.\u001b[39misin([\u001b[39m\"\u001b[39m\u001b[39mTCS\u001b[39m\u001b[39m\"\u001b[39m, \u001b[39m\"\u001b[39m\u001b[39mCapgemini\u001b[39m\u001b[39m\"\u001b[39m]))\n\u001b[0;32m      4\u001b[0m collegeStudentCountDF \u001b[39m=\u001b[39m companyDF\u001b[39m.\u001b[39;49mjoin(collegeDF, on\u001b[39m=\u001b[39;49m\u001b[39m\"\u001b[39;49m\u001b[39mcollege\u001b[39;49m\u001b[39m\"\u001b[39;49m, how\u001b[39m=\u001b[39;49m\u001b[39m\"\u001b[39;49m\u001b[39minner\u001b[39;49m\u001b[39m\"\u001b[39;49m) \\\n\u001b[0;32m      5\u001b[0m     \u001b[39m.\u001b[39;49mgroupBy(\u001b[39m\"\u001b[39;49m\u001b[39mcollege\u001b[39;49m\u001b[39m\"\u001b[39;49m) \\\n\u001b[1;32m----> 6\u001b[0m     \u001b[39m.\u001b[39;49magg((F\u001b[39m.\u001b[39;49mcol(\u001b[39m\"\u001b[39;49m\u001b[39mnumber_of_indian_students\u001b[39;49m\u001b[39m\"\u001b[39;49m)\u001b[39m.\u001b[39;49mcast(\u001b[39m\"\u001b[39;49m\u001b[39mint\u001b[39;49m\u001b[39m\"\u001b[39;49m) \u001b[39m+\u001b[39;49m F\u001b[39m.\u001b[39;49mcol(\u001b[39m\"\u001b[39;49m\u001b[39mnumber_of_foreign_students\u001b[39;49m\u001b[39m\"\u001b[39;49m)\u001b[39m.\u001b[39;49mcast(\u001b[39m\"\u001b[39;49m\u001b[39mint\u001b[39;49m\u001b[39m\"\u001b[39;49m))\u001b[39m.\u001b[39;49malias(\u001b[39m\"\u001b[39;49m\u001b[39mtotal_students\u001b[39;49m\u001b[39m\"\u001b[39;49m)) \\\n\u001b[0;32m      7\u001b[0m     \u001b[39m.\u001b[39mselect(\u001b[39m\"\u001b[39m\u001b[39mcollege\u001b[39m\u001b[39m\"\u001b[39m, \u001b[39m\"\u001b[39m\u001b[39mtotal_students\u001b[39m\u001b[39m\"\u001b[39m)\n",
      "File \u001b[1;32mc:\\Users\\sdhyani\\AppData\\Local\\Programs\\Python\\Python311\\Lib\\site-packages\\pyspark\\sql\\group.py:186\u001b[0m, in \u001b[0;36mGroupedData.agg\u001b[1;34m(self, *exprs)\u001b[0m\n\u001b[0;32m    184\u001b[0m     \u001b[39massert\u001b[39;00m \u001b[39mall\u001b[39m(\u001b[39misinstance\u001b[39m(c, Column) \u001b[39mfor\u001b[39;00m c \u001b[39min\u001b[39;00m exprs), \u001b[39m\"\u001b[39m\u001b[39mall exprs should be Column\u001b[39m\u001b[39m\"\u001b[39m\n\u001b[0;32m    185\u001b[0m     exprs \u001b[39m=\u001b[39m cast(Tuple[Column, \u001b[39m.\u001b[39m\u001b[39m.\u001b[39m\u001b[39m.\u001b[39m], exprs)\n\u001b[1;32m--> 186\u001b[0m     jdf \u001b[39m=\u001b[39m \u001b[39mself\u001b[39;49m\u001b[39m.\u001b[39;49m_jgd\u001b[39m.\u001b[39;49magg(exprs[\u001b[39m0\u001b[39;49m]\u001b[39m.\u001b[39;49m_jc, _to_seq(\u001b[39mself\u001b[39;49m\u001b[39m.\u001b[39;49msession\u001b[39m.\u001b[39;49m_sc, [c\u001b[39m.\u001b[39;49m_jc \u001b[39mfor\u001b[39;49;00m c \u001b[39min\u001b[39;49;00m exprs[\u001b[39m1\u001b[39;49m:]]))\n\u001b[0;32m    187\u001b[0m \u001b[39mreturn\u001b[39;00m DataFrame(jdf, \u001b[39mself\u001b[39m\u001b[39m.\u001b[39msession)\n",
      "File \u001b[1;32mc:\\Users\\sdhyani\\AppData\\Local\\Programs\\Python\\Python311\\Lib\\site-packages\\py4j\\java_gateway.py:1322\u001b[0m, in \u001b[0;36mJavaMember.__call__\u001b[1;34m(self, *args)\u001b[0m\n\u001b[0;32m   1316\u001b[0m command \u001b[39m=\u001b[39m proto\u001b[39m.\u001b[39mCALL_COMMAND_NAME \u001b[39m+\u001b[39m\\\n\u001b[0;32m   1317\u001b[0m     \u001b[39mself\u001b[39m\u001b[39m.\u001b[39mcommand_header \u001b[39m+\u001b[39m\\\n\u001b[0;32m   1318\u001b[0m     args_command \u001b[39m+\u001b[39m\\\n\u001b[0;32m   1319\u001b[0m     proto\u001b[39m.\u001b[39mEND_COMMAND_PART\n\u001b[0;32m   1321\u001b[0m answer \u001b[39m=\u001b[39m \u001b[39mself\u001b[39m\u001b[39m.\u001b[39mgateway_client\u001b[39m.\u001b[39msend_command(command)\n\u001b[1;32m-> 1322\u001b[0m return_value \u001b[39m=\u001b[39m get_return_value(\n\u001b[0;32m   1323\u001b[0m     answer, \u001b[39mself\u001b[39;49m\u001b[39m.\u001b[39;49mgateway_client, \u001b[39mself\u001b[39;49m\u001b[39m.\u001b[39;49mtarget_id, \u001b[39mself\u001b[39;49m\u001b[39m.\u001b[39;49mname)\n\u001b[0;32m   1325\u001b[0m \u001b[39mfor\u001b[39;00m temp_arg \u001b[39min\u001b[39;00m temp_args:\n\u001b[0;32m   1326\u001b[0m     \u001b[39mif\u001b[39;00m \u001b[39mhasattr\u001b[39m(temp_arg, \u001b[39m\"\u001b[39m\u001b[39m_detach\u001b[39m\u001b[39m\"\u001b[39m):\n",
      "File \u001b[1;32mc:\\Users\\sdhyani\\AppData\\Local\\Programs\\Python\\Python311\\Lib\\site-packages\\pyspark\\errors\\exceptions\\captured.py:185\u001b[0m, in \u001b[0;36mcapture_sql_exception.<locals>.deco\u001b[1;34m(*a, **kw)\u001b[0m\n\u001b[0;32m    181\u001b[0m converted \u001b[39m=\u001b[39m convert_exception(e\u001b[39m.\u001b[39mjava_exception)\n\u001b[0;32m    182\u001b[0m \u001b[39mif\u001b[39;00m \u001b[39mnot\u001b[39;00m \u001b[39misinstance\u001b[39m(converted, UnknownException):\n\u001b[0;32m    183\u001b[0m     \u001b[39m# Hide where the exception came from that shows a non-Pythonic\u001b[39;00m\n\u001b[0;32m    184\u001b[0m     \u001b[39m# JVM exception message.\u001b[39;00m\n\u001b[1;32m--> 185\u001b[0m     \u001b[39mraise\u001b[39;00m converted \u001b[39mfrom\u001b[39;00m \u001b[39mNone\u001b[39;00m\n\u001b[0;32m    186\u001b[0m \u001b[39melse\u001b[39;00m:\n\u001b[0;32m    187\u001b[0m     \u001b[39mraise\u001b[39;00m\n",
      "\u001b[1;31mAnalysisException\u001b[0m: [MISSING_AGGREGATION] The non-aggregating expression \"number_of_indian_students\" is based on columns which are not participating in the GROUP BY clause.\nAdd the columns or the expression to the GROUP BY, aggregate the expression, or use \"any_value(number_of_indian_students)\" if you do not care which of the values within a group is returned.;\nAggregate [college#104], [college#104, (cast(number_of_indian_students#90 as int) + cast(number_of_foreign_students#91 as int)) AS total_students#269]\n+- Project [college#104, dates#103, company#105, location#106, country#107, package#108, selected#109, participated#110, criteria#111, dates#87, location#89, number_of_indian_students#90, number_of_foreign_students#91, fees#92, survey_name#93, rank#94, year#141]\n   +- Join Inner, (college#104 = college#88)\n      :- Filter company#105 IN (TCS,Capgemini)\n      :  +- Filter company#105 IN (TCS,Capgemini)\n      :     +- Filter company#105 IN (TCS,Capgemini)\n      :        +- LogicalRDD [dates#103, college#104, company#105, location#106, country#107, package#108, selected#109, participated#110, criteria#111], false\n      +- Project [dates#87, college#88, location#89, number_of_indian_students#90, number_of_foreign_students#91, fees#92, survey_name#93, rank#94, year(to_date(dates#87, Some(yyyy-MM-dd), Some(Asia/Calcutta), false)) AS year#141]\n         +- Project [dates#87, college#88, location#89, number_of_indian_students#90, number_of_foreign_students#91, fees#92, survey_name#93, rank#94, year(to_date(dates#87, Some(yyyy-MM-dd), Some(Asia/Calcutta), false)) AS year#121]\n            +- LogicalRDD [dates#87, college#88, location#89, number_of_indian_students#90, number_of_foreign_students#91, fees#92, survey_name#93, rank#94], false\n"
     ]
    }
   ],
   "source": [
    "from pyspark.sql import functions as F\n",
    "\n",
    "companyDF = companyDF.filter(col(\"company\").isin([\"TCS\", \"Capgemini\"]))\n",
    "collegeStudentCountDF = companyDF.join(collegeDF, on=\"college\", how=\"inner\") \\\n",
    "    .groupBy(\"college\") \\\n",
    "    .agg((F.col(\"number_of_indian_students\").cast(\"int\") + F.col(\"number_of_foreign_students\").cast(\"int\")).alias(\"total_students\")) \\\n",
    "    .select(\"college\", \"total_students\")"
   ]
  },
  {
   "cell_type": "code",
   "execution_count": null,
   "id": "1d1c37f8",
   "metadata": {},
   "outputs": [],
   "source": [
    "companyDriveCountDF = companyDF.groupBy(\"company\").count() \\\n",
    "    .select(\"company\", \"count\") \\\n",
    "    .orderBy(\"count\", ascending=False)"
   ]
  },
  {
   "cell_type": "code",
   "execution_count": null,
   "id": "1174d99e",
   "metadata": {},
   "outputs": [],
   "source": [
    "collegeDF = collegeDF.withColumn(\"state\", split(col(\"location\"), \",\")[1])  # Assuming comma-separated location format\n",
    "selectedStudentsDF = companyDF.join(collegeDF, on=\"college\", how=\"inner\") \\\n",
    "    .filter(col(\"selected\") > 0)\n",
    "stateStudentCountDF = selectedStudentsDF.groupBy(\"state\") \\\n",
    "    .agg(col(\"selected\").sum().alias(\"total_selections\")) \\\n",
    "    .orderBy(\"total_selections\", ascending=False)"
   ]
  },
  {
   "cell_type": "code",
   "execution_count": null,
   "id": "966363d9",
   "metadata": {},
   "outputs": [],
   "source": [
    "maxForeignStudents = collegeDF.select(col(\"number_of_foreign_students\").cast(\"int\")).rdd.max()[0]\n",
    "collegeWithMaxForeignStudentsDF = collegeDF.filter(col(\"number_of_foreign_students\").cast(\"int\") == maxForeignStudents)\n",
    "joinedDetailsDF = collegeWithMaxForeignStudentsDF.join(companyDF, on=\"college\", how=\"full\")  # Full join to include colleges without drives"
   ]
  },
  {
   "cell_type": "code",
   "execution_count": null,
   "id": "6f9c630a",
   "metadata": {},
   "outputs": [],
   "source": [
    "topSelectedStudentsDF = companyDF.join(collegeDF, on=\"college\", how=\"inner\") \\\n",
    "    .groupBy(\"college\") \\\n",
    "    .agg(col(\"selected\").sum().alias(\"total_selected\")) \\\n",
    "    .orderBy(\"total_selected\", ascending=False) \\\n",
    "    .limit(5)"
   ]
  },
  {
   "cell_type": "code",
   "execution_count": null,
   "id": "3aae4ce7",
   "metadata": {},
   "outputs": [],
   "source": [
    "packageAbove10DF = companyDF.join(collegeDF, on=\"college\", how=\"inner\") \\\n",
    "    .filter(col(\"package\") > 10) \\\n",
    "    .select(\"college\", \"fees\")"
   ]
  },
  {
   "cell_type": "code",
   "execution_count": null,
   "id": "f1ee6d68",
   "metadata": {},
   "outputs": [],
   "source": [
    "maxCriteria = companyDF.select(col(\"criteria\").cast(\"int\")).rdd.max()[0]\n",
    "collegeWithMaxCriteriaDF = collegeDF.filter(col(\"criteria\") == maxCriteria)"
   ]
  },
  {
   "cell_type": "code",
   "execution_count": null,
   "id": "dd3d7b84",
   "metadata": {},
   "outputs": [],
   "source": [
    "collegeDF.printSchema()\n",
    "companyDF.printSchema()"
   ]
  }
 ],
 "metadata": {
  "kernelspec": {
   "display_name": "Python 3 (ipykernel)",
   "language": "python",
   "name": "python3"
  },
  "language_info": {
   "codemirror_mode": {
    "name": "ipython",
    "version": 3
   },
   "file_extension": ".py",
   "mimetype": "text/x-python",
   "name": "python",
   "nbconvert_exporter": "python",
   "pygments_lexer": "ipython3",
   "version": "3.11.5"
  }
 },
 "nbformat": 4,
 "nbformat_minor": 5
}
