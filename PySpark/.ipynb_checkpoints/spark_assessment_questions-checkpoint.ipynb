{
 "cells": [
  {
   "cell_type": "code",
   "execution_count": null,
   "id": "7bcbf3a0-be8f-4e52-8111-fa669a53a853",
   "metadata": {},
   "outputs": [],
   "source": [
    "#Question 1. \n",
    "''' Consider 2 lists below:\n",
    "    var fruit=List(“apple”,”mango”,”lemon”)\n",
    "    var price=List(20,30,10)\n",
    "    var qty=List(2,5,12)\n",
    "        a) Create a dataframe from 2 lists fruit & price. It looks like follows:\n",
    "        Fruit Price\n",
    "        Apple 20\n",
    "        Mango 30\n",
    "        Lemon 1\n",
    "        b) Add a new column “Quantity” and insert the data from the list “qty” as column wise.\n",
    "        c) Add another column “Total Price” and insert data by calculating data as price x qty.\n",
    "        d) Rearrange the whole dataframe by descending into “Total Price” column.\n",
    "        e) Save the dataframe into CSV file “fruits.csv”\n",
    "'''"
   ]
  },
  {
   "cell_type": "code",
   "execution_count": null,
   "id": "e5e4a0ce-505a-48af-9cf3-23ce33a2d497",
   "metadata": {},
   "outputs": [],
   "source": [
    "from pyspark.sql import SparkSession, DataFrame\n",
    "from pyspark.sql.functions import col"
   ]
  },
  {
   "cell_type": "code",
   "execution_count": null,
   "id": "5a6b705a-876a-431f-8ea3-936a3b12cb68",
   "metadata": {},
   "outputs": [],
   "source": [
    "spark = SparkSession.builder.appName(\"Spark Assessment\").getOrCreate()"
   ]
  },
  {
   "cell_type": "code",
   "execution_count": null,
   "id": "b6719002-22c9-4ff5-a438-3639e2ad8966",
   "metadata": {},
   "outputs": [],
   "source": [
    "data = [(\"apple\", 20), (\"mango\", 30), (\"lemon\", 10)]\n",
    "df = spark.createDataFrame(data, [\"Fruit\", \"Price\"])"
   ]
  },
  {
   "cell_type": "code",
   "execution_count": null,
   "id": "fa3d3ae3-118b-4210-9a6a-dc3e08375706",
   "metadata": {},
   "outputs": [],
   "source": [
    "qty = [2, 5, 12]\n",
    "df = df.withColumn(\"Quantity\", col(\"Fruit\").cast(\"int\"))"
   ]
  },
  {
   "cell_type": "code",
   "execution_count": null,
   "id": "7387d8ec-7834-4287-b672-29d3bd99f933",
   "metadata": {},
   "outputs": [],
   "source": [
    "df = df.withColumn(\"Total Price\", col(\"Price\") * col(\"Quantity\"))"
   ]
  },
  {
   "cell_type": "code",
   "execution_count": null,
   "id": "b8fc7fbd-f878-4230-a187-ab280f687eef",
   "metadata": {},
   "outputs": [],
   "source": [
    "df = df.orderBy(col(\"Total Price\").desc())"
   ]
  },
  {
   "cell_type": "code",
   "execution_count": null,
   "id": "642c83d8-b19a-4a8d-9cba-3655c1b9a00c",
   "metadata": {},
   "outputs": [],
   "source": [
    "df.write.csv(\"fruits.csv\", header=True)"
   ]
  },
  {
   "cell_type": "code",
   "execution_count": null,
   "id": "1c9c7605-d01b-47c8-b511-c894f0e9153d",
   "metadata": {},
   "outputs": [],
   "source": [
    "df.show()"
   ]
  }
 ],
 "metadata": {
  "kernelspec": {
   "display_name": "Python 3 (ipykernel)",
   "language": "python",
   "name": "python3"
  },
  "language_info": {
   "codemirror_mode": {
    "name": "ipython",
    "version": 3
   },
   "file_extension": ".py",
   "mimetype": "text/x-python",
   "name": "python",
   "nbconvert_exporter": "python",
   "pygments_lexer": "ipython3",
   "version": "3.11.5"
  }
 },
 "nbformat": 4,
 "nbformat_minor": 5
}
